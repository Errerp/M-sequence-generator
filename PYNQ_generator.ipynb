{
 "cells": [
  {
   "cell_type": "code",
   "execution_count": null,
   "id": "7ef5a936-4b64-49d0-b780-fcb40f974b76",
   "metadata": {},
   "outputs": [],
   "source": [
    "import re\n",
    "import numpy as np\n",
    "import matplotlib.pyplot as plt\n",
    "from pynq.overlay import Overlay\n",
    "from pynq import MMIO\n",
    "from time import sleep\n",
    "from collections import Counter\n",
    "\n",
    "platform = Overlay(\"one.bit\")\n",
    "IP_BASE_ADDRESS = 0x43C00000\n",
    "ADDRESS_RANGE = 0x1000\n",
    "mmio = MMIO(IP_BASE_ADDRESS, ADDRESS_RANGE)"
   ]
  },
  {
   "cell_type": "markdown",
   "id": "48ac2e16-0747-4799-9939-0636b6434644",
   "metadata": {},
   "source": [
    "# Connecting the RGB LED"
   ]
  },
  {
   "cell_type": "code",
   "execution_count": null,
   "id": "e9f13810-b9a4-4766-ac98-c2b0d3e31cbc",
   "metadata": {},
   "outputs": [],
   "source": [
    "IP_BASE = 0x41220000 # RGB светодиод\n",
    "RANGE = 0x1000\n",
    "DATA_OFFSET = 0x0\n",
    "TRISTATE_OFFSET = 0x4\n",
    "mm = MMIO(IP_BASE,RANGE)\n",
    "mm.write(TRISTATE_OFFSET, 0x0) #Все GPIO выходы"
   ]
  },
  {
   "cell_type": "markdown",
   "id": "505362fd-ca7e-428f-a9e2-435e2dd44049",
   "metadata": {},
   "source": [
    "# The generator process"
   ]
  },
  {
   "cell_type": "code",
   "execution_count": null,
   "id": "6a9e48c3-dc12-4bbb-993b-1a902d8642c9",
   "metadata": {},
   "outputs": [],
   "source": [
    "mmio.write(3*4, 0x1) # SEED = 0000000000001\n",
    "sleep(1)\n",
    "seed = mmio.read(3*4)\n",
    "print(\"SEED is 0x{0:04x}\\n\".format(seed))\n",
    "mmio.write(4*4, 0x1) # INIT = 1\n",
    "\n",
    "mm.write(DATA_OFFSET, 0x7)\n",
    "sleep(1)\n",
    "\n",
    "test = [None] * (2 ** 13 - 1)\n",
    "# test = [None] * (2 ** 13)\n",
    "\n",
    "mmio.write(4*4, 0x0) # INIT = 0\n",
    "\n",
    "mm.write(DATA_OFFSET, 0x5)\n",
    "result = mmio.read(6*4)\n",
    "print(\"LFSR is 0x{0:04x}\".format(result))\n",
    "test[0] = result\n",
    "\n",
    "count = 0\n",
    "i = 0\n",
    "finish = 0\n",
    "while(finish != 1):\n",
    "    i += 1\n",
    "    mmio.write(5*4, 0x1) # GO = 1\n",
    "    mmio.write(5*4, 0x0) # GO = 0\n",
    "    result = mmio.read(6*4)\n",
    "    print(\"LFSR is 0x{0:04x}\".format(result))\n",
    "#     test[i] = result\n",
    "\n",
    "    if(result == seed):\n",
    "      finish = 1     \n",
    "    else:\n",
    "        test[i] = result\n",
    "\n",
    "mm.write(DATA_OFFSET, 0x4)\n",
    "sleep(2)\n",
    "\n",
    "print(\"\\nNumber of iterations: \", i)\n",
    "mm.write(DATA_OFFSET, 0x0)"
   ]
  },
  {
   "cell_type": "markdown",
   "id": "10d37e1b-418a-4a4e-b167-d299e1b118fd",
   "metadata": {},
   "source": [
    "# Histogram (test 1)"
   ]
  },
  {
   "cell_type": "code",
   "execution_count": null,
   "id": "6d7b7471-de5e-4c18-91d4-cd5ddea1d3e5",
   "metadata": {},
   "outputs": [],
   "source": [
    "plt.figure(figsize=(20, 5))\n",
    "plt.hist(test,color = 'black', edgecolor = 'white', bins = int(len(test)))\n",
    "plt.title('Histogram')"
   ]
  },
  {
   "cell_type": "markdown",
   "id": "48845e76-e450-4afc-97ff-aabda8114199",
   "metadata": {},
   "source": [
    "# Distribution on the plane (test 2)"
   ]
  },
  {
   "cell_type": "code",
   "execution_count": null,
   "id": "572f100e-7774-426e-b12d-3a876bfa8958",
   "metadata": {},
   "outputs": [],
   "source": [
    "x = [None] * (2 ** 13 - 16) \n",
    "y = [None] * (2 ** 13 - 16)\n",
    "\n",
    "for i in range(0, len(test) - 15, 8):\n",
    "    x[i] = test[i]\n",
    "    x[i + 1] = test[i + 1]\n",
    "    x[i + 2] = test[i + 2]\n",
    "    x[i + 3] = test[i + 3]\n",
    "    x[i + 4] = test[i + 4]\n",
    "    x[i + 5] = test[i + 5]\n",
    "    x[i + 6] = test[i + 6]\n",
    "    x[i + 7] = test[i + 7]\n",
    "    \n",
    "    y[i] = test[i + 8]\n",
    "    y[i + 1] = test[i + 9]\n",
    "    y[i + 2] = test[i + 10]\n",
    "    y[i + 3] = test[i + 11]\n",
    "    y[i + 4] = test[i + 12]\n",
    "    y[i + 5] = test[i + 13]\n",
    "    y[i + 6] = test[i + 14]\n",
    "    y[i + 7] = test[i + 15]"
   ]
  },
  {
   "cell_type": "code",
   "execution_count": null,
   "id": "592c853f-6fa1-4a52-9708-0b0ccb3995ce",
   "metadata": {},
   "outputs": [],
   "source": [
    "plt.figure(figsize=(10, 5))\n",
    "plt.scatter(x, y, color = 'black', s = 1)\n",
    "plt.title(\"Distribution on the plane\")\n",
    "plt.grid(True)\n",
    "plt.show()"
   ]
  },
  {
   "cell_type": "markdown",
   "id": "367d2daa-7f93-4996-8991-2230eed791d8",
   "metadata": {},
   "source": [
    "# Graphical verification of a series characters (test 3)"
   ]
  },
  {
   "cell_type": "code",
   "execution_count": null,
   "id": "87871b8d-f528-4bcc-81c9-6c0b2c3ed9d6",
   "metadata": {},
   "outputs": [],
   "source": [
    "def count_pattern(number, pattern):\n",
    "    count = 0\n",
    "    for i in range(len(number) - len(pattern) + 1):\n",
    "        if number[i:i+len(pattern)] == pattern:\n",
    "            count += 1\n",
    "    return count"
   ]
  },
  {
   "cell_type": "code",
   "execution_count": null,
   "id": "38b7ea8b-7241-446f-84f8-afdb1677b9d7",
   "metadata": {},
   "outputs": [],
   "source": [
    "count_0 = 0\n",
    "count_1 = 0\n",
    "count_00 = 0\n",
    "count_01 = 0\n",
    "count_10 = 0\n",
    "count_11 = 0\n",
    "count_000 = 0\n",
    "count_001 = 0\n",
    "count_010 = 0\n",
    "count_011 = 0\n",
    "count_100 = 0\n",
    "count_101 = 0\n",
    "count_110 = 0\n",
    "count_111 = 0\n",
    "\n",
    "for num in test:\n",
    "    bin_str = bin(num)[2:].zfill(13)\n",
    "    count_0 += count_pattern(bin_str, '0')\n",
    "    count_1 += count_pattern(bin_str, '1')\n",
    "    count_00 += count_pattern(bin_str, '00')\n",
    "    count_01 += count_pattern(bin_str, '01')\n",
    "    count_10 += count_pattern(bin_str, '10')\n",
    "    count_11 += count_pattern(bin_str, '11')\n",
    "    count_000 += count_pattern(bin_str, '000')\n",
    "    count_001 += count_pattern(bin_str, '001')\n",
    "    count_010 += count_pattern(bin_str, '010')\n",
    "    count_011 += count_pattern(bin_str, '011')\n",
    "    count_100 += count_pattern(bin_str, '100')\n",
    "    count_101 += count_pattern(bin_str, '101')\n",
    "    count_110 += count_pattern(bin_str, '110')\n",
    "    count_111 += count_pattern(bin_str, '111')\n",
    "    \n",
    "counts_1 = {\n",
    "    '0': count_0,\n",
    "    '1': count_1\n",
    "}\n",
    "\n",
    "counts_2 = {\n",
    "    '00': count_00,\n",
    "    '01': count_01,\n",
    "    '10': count_10,\n",
    "    '11': count_11\n",
    "}\n",
    "\n",
    "counts_3 = {\n",
    "    '000': count_000,\n",
    "    '001': count_001,\n",
    "    '010': count_010,\n",
    "    '011': count_011,\n",
    "    '100': count_100,\n",
    "    '101': count_101,\n",
    "    '110': count_110,\n",
    "    '111': count_111\n",
    "} \n",
    "\n",
    "fig, (ax1, ax2, ax3) = plt.subplots(3, 1, figsize=(5, 5))\n",
    "\n",
    "ax1.bar(counts_1.keys(), counts_1.values(), color='black')\n",
    "for i, v in enumerate(counts_1.values()):\n",
    "    ax1.text(i, v + 0.5, str(v), ha='center')\n",
    "\n",
    "ax2.bar(counts_2.keys(), counts_2.values(), color='black')\n",
    "for i, v in enumerate(counts_2.values()):\n",
    "    ax2.text(i, v + 0.5, str(v), ha='center')\n",
    "\n",
    "ax3.bar(counts_3.keys(), counts_3.values(), color='black')\n",
    "for i, v in enumerate(counts_3.values()):\n",
    "    ax3.text(i, v + 0.5, str(v), ha='center')\n",
    "\n",
    "plt.tight_layout()\n",
    "plt.show()"
   ]
  },
  {
   "cell_type": "markdown",
   "id": "cb51424b-68c8-40e8-9ac6-9a95632ff07f",
   "metadata": {},
   "source": [
    "# Checking of monotony (test 4)"
   ]
  },
  {
   "cell_type": "code",
   "execution_count": null,
   "id": "a262d082-8452-4303-a602-17a0ac2fcc88",
   "metadata": {},
   "outputs": [],
   "source": [
    "def find_monotonic_segments(sequence):\n",
    "    if len(sequence) <= 1:\n",
    "        return []\n",
    "    \n",
    "    segments = []\n",
    "    start = 0\n",
    "    direction = 0 \n",
    "    \n",
    "    for i in range(1, len(sequence)):\n",
    "        current_dir = 0\n",
    "        if sequence[i] > sequence[i-1]:\n",
    "            current_dir = 1\n",
    "        elif sequence[i] < sequence[i-1]:\n",
    "            current_dir = -1\n",
    "        \n",
    "        if direction == 0:\n",
    "            direction = current_dir\n",
    "        elif current_dir != direction:\n",
    "            segments.append((start, i-1, direction))\n",
    "            start = i-1\n",
    "            direction = current_dir\n",
    "    \n",
    "    segments.append((start, len(sequence)-1, direction))\n",
    "    return segments\n",
    "\n",
    "def analyze_monotonicity(sequence):\n",
    "    segments = find_monotonic_segments(sequence)\n",
    "    segment_lengths = [end - start + 1 for start, end, dir in segments]\n",
    "    num_segments = len(segments)\n",
    "    return num_segments, segment_lengths\n",
    "\n",
    "def plot_monotonic_segments(sequence):\n",
    "    num_segments, lengths = analyze_monotonicity(sequence)\n",
    "    length_counts = Counter(lengths)\n",
    "    plt.figure(figsize=(10, 15))\n",
    "    plt.bar(length_counts.keys(), length_counts.values(), color='black')\n",
    "    plt.xlabel('Segment length')\n",
    "    plt.ylabel('Number of segments')\n",
    "    plt.grid(True)\n",
    "    plt.show()\n",
    "\n",
    "plot_monotonic_segments(test)"
   ]
  },
  {
   "cell_type": "markdown",
   "id": "41f21ea7-6c82-4ac2-9ca8-3edd5c4d4024",
   "metadata": {},
   "source": [
    "# Autocorrelation (test 5)"
   ]
  },
  {
   "cell_type": "code",
   "execution_count": null,
   "id": "dcabdf1e-ac16-400e-914d-c2568ed361ab",
   "metadata": {},
   "outputs": [],
   "source": [
    "def check_autocorrelation(sequence):\n",
    "\n",
    "    n = len(sequence)\n",
    "    autocorr = []\n",
    "    \n",
    "    for shift in range(n):\n",
    "        sum_corr = 0\n",
    "        for i in range(n):\n",
    "            sum_corr += sequence[i] * sequence[(i + shift) % n]\n",
    "        autocorr.append(sum_corr)\n",
    "    \n",
    "    autocorr = [x / n for x in autocorr]\n",
    "    \n",
    "    plt.figure(figsize=(10, 5))\n",
    "    plt.plot(autocorr, 'o-')\n",
    "    plt.title(\"Autocorrelation\")\n",
    "    plt.grid(True)\n",
    "    plt.show()"
   ]
  },
  {
   "cell_type": "code",
   "execution_count": null,
   "id": "eabfc30b-daf9-48eb-b41f-4d920f6a5da3",
   "metadata": {},
   "outputs": [],
   "source": [
    "check_autocorrelation(test)"
   ]
  }
 ],
 "metadata": {
  "kernelspec": {
   "display_name": "Python 3 (ipykernel)",
   "language": "python",
   "name": "python3"
  },
  "language_info": {
   "codemirror_mode": {
    "name": "ipython",
    "version": 3
   },
   "file_extension": ".py",
   "mimetype": "text/x-python",
   "name": "python",
   "nbconvert_exporter": "python",
   "pygments_lexer": "ipython3",
   "version": "3.13.1"
  }
 },
 "nbformat": 4,
 "nbformat_minor": 5
}
